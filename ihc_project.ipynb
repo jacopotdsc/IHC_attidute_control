{
  "cells": [
    {
      "cell_type": "code",
      "execution_count": 15,
      "metadata": {},
      "outputs": [],
      "source": [
        "global_var = {\n",
        "\n",
        "    # Connection\n",
        "    'ip_address': '127.0.0.1',\n",
        "    'port_nn_input': 8280,\n",
        "    'port_pid_output': 8281,\n",
        "\n",
        "    'buffer_size': 1024,\n",
        "\n",
        "    # Network \n",
        "    'input_dim': 4,\n",
        "    'output_dim': 3,\n",
        "    'hidden_dim': 10,\n",
        "    'bias': False,\n",
        "    'learning_rate': 0.001,\n",
        "    'model_name': 'model.pt',\n",
        "\n",
        "    #Train\n",
        "    'batch_size': 32,\n",
        "    'epochs': 10\n",
        "}\n",
        "\n",
        "class Color:\n",
        "    RED = '\\033[91m'\n",
        "    GREEN = '\\033[92m'\n",
        "    YELLOW = '\\033[93m'\n",
        "    BLUE = '\\033[94m'\n",
        "    MAGENTA = '\\033[95m'\n",
        "    CYAN = '\\033[96m'\n",
        "    WHITE = '\\033[97m'\n",
        "    RESET = '\\033[0m'\n",
        "    BOLD = '\\033[1m'\n",
        "    UNDERLINE = '\\033[4m'"
      ]
    },
    {
      "cell_type": "markdown",
      "metadata": {},
      "source": [
        "# Imports"
      ]
    },
    {
      "cell_type": "code",
      "execution_count": 16,
      "metadata": {},
      "outputs": [],
      "source": [
        "import torch\n",
        "import torch.nn as nn\n",
        "import torch.optim as optim\n",
        "from torch.utils.data import Dataset, DataLoader\n",
        "\n",
        "import numpy as np\n",
        "import sklearn.preprocessing\n",
        "from sklearn.kernel_approximation import RBFSampler\n",
        "\n",
        "import socket"
      ]
    },
    {
      "cell_type": "markdown",
      "metadata": {},
      "source": [
        "# Utils"
      ]
    },
    {
      "cell_type": "code",
      "execution_count": 17,
      "metadata": {},
      "outputs": [],
      "source": [
        "def setup_receiver(ip_address, port_input):\n",
        "\n",
        "    print(f\"{Color.YELLOW}ip: {ip_address}, port_input: {port_input}\")\n",
        "\n",
        "    try:\n",
        "        socket_nn_input = socket.socket(socket.AF_INET, socket.SOCK_STREAM)\n",
        "        socket_nn_input.bind( (ip_address, port_input) )\n",
        "        socket_nn_input.listen(1)\n",
        "\n",
        "        print(f\"{Color.BOLD}{Color.GREEN}Sockets listener created\")\n",
        "\n",
        "        return socket_nn_input\n",
        "    except Exception as e:\n",
        "        print(f\"{Color.RED}An error occurred: {e}\")\n",
        "\n",
        "        if 'socket_nn_input' in locals():\n",
        "            socket_nn_input.close()\n",
        "            \n",
        "        return None, None\n",
        "    \n",
        "def setup_sender(ip_address, socket_nn_input, port_output):\n",
        "\n",
        "    print(f\"{Color.YELLOW}ip: {ip_address}, port_output: {port_output}\")\n",
        "\n",
        "    try:\n",
        "\n",
        "        #sender = socket.socket(socket.AF_INET, socket.SOCK_STREAM)\n",
        "        #sender.connect( (ip_address, port_output) )\n",
        "        \n",
        "        sender = socket.socket(socket.AF_INET, socket.SOCK_STREAM)\n",
        "        sender.bind( (ip_address, port_output) )\n",
        "        sender.listen(1)\n",
        "        \n",
        "        print(f\"{Color.BOLD}{Color.GREEN}Sockets sender created\")\n",
        "\n",
        "        return  sender\n",
        "    except Exception as e:\n",
        "        print(f\"{Color.RED}An error occurred: {e}\")\n",
        "\n",
        "        if 'socket_nn_input' in locals():\n",
        "            socket_nn_input.close()\n",
        "        if 'sender' in locals():\n",
        "            sender.close()\n",
        "        \n",
        "        return None, None\n",
        "\n",
        "def accept_connection(socket_server):\n",
        "    connection, address = socket_server.accept()\n",
        "    print(f\"{Color.GREEN}Connection accepted!\")\n",
        "    return connection, address\n",
        "\n",
        "def receive_data(receiver):\n",
        "    data = receiver.recv(global_var['buffer_size'])\n",
        "    return data\n",
        "\n",
        "def send_data(sender, message):\n",
        "    sender.send(message)\n",
        "\n",
        "def close_connections(socket_input, socket_output):\n",
        "    socket_input.close()\n",
        "    socket_output.close()\n",
        "    print(f\"{Color.GREEN}Sockets closed!\")\n",
        "    return\n"
      ]
    },
    {
      "cell_type": "markdown",
      "metadata": {},
      "source": [
        "# Architecture"
      ]
    },
    {
      "cell_type": "code",
      "execution_count": 18,
      "metadata": {},
      "outputs": [],
      "source": [
        "class FeedForwardNet(nn.Module):\n",
        "\n",
        "    def __init__(self, input_dim, output_dim, hidden_dim, bias ) -> None:\n",
        "        super(FeedForwardNet, self).__init__()\n",
        "\n",
        "        self.input_dim  = input_dim\n",
        "        self.hidden_dim = hidden_dim\n",
        "        self.output_dim =  output_dim\n",
        "\n",
        "        self.relu = nn.ReLU()\n",
        "        self.tanh = nn.Tanh()\n",
        "\n",
        "        self.layer_1 = nn.Linear(\n",
        "            in_features = self.input_dim,\n",
        "            out_features = self.hidden_dim,\n",
        "            bias = bias\n",
        "        )\n",
        "\n",
        "        self.layer_2 = nn.Linear(\n",
        "            in_features = self.hidden_dim,\n",
        "            out_features = self.output_dim,\n",
        "            bias = bias\n",
        "        )\n",
        "    \n",
        "    def forward(self, x):\n",
        "        \n",
        "        x = self.layer_1(x)\n",
        "        x = self.relu(x)\n",
        "        x = self.layer_2(x)\n",
        "\n",
        "        return x"
      ]
    },
    {
      "cell_type": "code",
      "execution_count": 19,
      "metadata": {},
      "outputs": [],
      "source": [
        "class ControllerNetwork(nn.Module):\n",
        "    def __init__(self, input_dim, output_dim, hidden_dim, lr, bias, model_name ) -> None:\n",
        "        super(ControllerNetwork, self).__init__()\n",
        "\n",
        "        self.network = FeedForwardNet(\n",
        "            input_dim = input_dim,\n",
        "            output_dim = output_dim,\n",
        "            hidden_dim = hidden_dim,\n",
        "            bias = bias\n",
        "        )\n",
        "\n",
        "        self.loss_fnc = nn.MSELoss()\n",
        "        self.optimizer = optim.Adam(self.parameters(), lr=lr)\n",
        "\n",
        "    def forward(self, x):\n",
        "        network_output = self.network(x)\n",
        "        return network_output\n",
        "    \n",
        "    def save(self, name):\n",
        "        torch.save(self.state_dict(), name )\n",
        "        print(f\"Saved: {name}\")\n",
        "\n",
        "    def load(self, name):\n",
        "        self.load_state_dict(torch.load(name) )\n",
        "        print(f\"loaded: {name}\")"
      ]
    },
    {
      "cell_type": "markdown",
      "metadata": {},
      "source": [
        "# PID"
      ]
    },
    {
      "cell_type": "code",
      "execution_count": 20,
      "metadata": {},
      "outputs": [],
      "source": [
        "class PID():\n",
        "    def __init__(self):\n",
        "    \n",
        "        self.error_1_step_back = 0\n",
        "        self.error_2_step_back = 0\n",
        "        self.threshold = 0.01   \n",
        "        self.controller_output = 0\n",
        "\n",
        "    \n",
        "    def control(self, Kp, Ki, Kd, current_error):\n",
        "\n",
        "        if current_error <= self.threshold:\n",
        "            current_error = 0\n",
        "            \n",
        "        proportional_output = Kp * (current_error - self.error_1_step_back)\n",
        "        integral_output = Ki * current_error\n",
        "        differential_output = Kd * ( current_error - 2*self.error_1_step_back + self.error_2_step_back )\n",
        "\n",
        "        delta_controller_output = proportional_output + integral_output + differential_output\n",
        "\n",
        "        self.error_2_step_back = self.error_1_step_back\n",
        "        self.error_1_step_back = current_error\n",
        "\n",
        "        self.controller_output += delta_controller_output\n",
        "\n",
        "        return self.controller_output"
      ]
    },
    {
      "cell_type": "markdown",
      "metadata": {},
      "source": [
        "# Train"
      ]
    },
    {
      "cell_type": "code",
      "execution_count": 21,
      "metadata": {},
      "outputs": [],
      "source": [
        "def train(model, controller, epochs, batch_size):\n",
        "\n",
        "    socket_nn_input, sender = setup_connections(ip_address = global_var['ip_address'], \n",
        "                                                port_input = global_var['port_nn_input'],\n",
        "                                                port_output = global_var['port_pid_output']\n",
        "                                                )\n",
        "    receiver, address = accept_connection(socket_input=socket_nn_input)\n",
        "\n",
        "\n",
        "    '''\n",
        "    for e in range(epochs):\n",
        "        \n",
        "        # collect at least batch_size sample\n",
        "        for n_data in range(batch_size):\n",
        "            data = receive_data(receiver)\n",
        "\n",
        "\n",
        "        loss_value = 0\n",
        "\n",
        "        for i, data in enumerate(dataset):\n",
        "\n",
        "            # data: [reference_model_input, phi_d, phi_e,  phi]\n",
        "            reference_model_input, phi_d, phi_e,  phi = data\n",
        "\n",
        "            model.optmizer.zero_grad()\n",
        "            \n",
        "            pid_parameters = model(data)\n",
        "            Kp, Ki, Kd = pid_parameters\n",
        "\n",
        "            outputs = []\n",
        "            for batch_index in range(batch_size):\n",
        "                pid_output = controller.control( Kp[batch_index], Ki[batch_index], Kd[batch_index], phi_e[batch_index] ) \n",
        "                send_data(pid_output)\n",
        "                outputs.append(pid_output)\n",
        "                \n",
        "            loss = model.loss_fnc(torch.tensor(outputs), torch.tensor(phi_e) )\n",
        "            loss.backward()\n",
        "\n",
        "            model.optmizer.step()\n",
        "\n",
        "            loss_value += loss.item()\n",
        "\n",
        "    '''\n",
        "    close_connections(socket_nn_input, sender)\n",
        "    \n",
        "    return "
      ]
    },
    {
      "cell_type": "code",
      "execution_count": 22,
      "metadata": {},
      "outputs": [],
      "source": [
        "network = ControllerNetwork(  input_dim=global_var['input_dim'],\n",
        "                            output_dim=global_var['output_dim'],\n",
        "                            hidden_dim=global_var['hidden_dim'],\n",
        "                            bias=global_var['bias'],\n",
        "                            lr=global_var['learning_rate'],\n",
        "                            model_name=global_var['model_name']\n",
        "                            )\n",
        "\n",
        "pid_controller = PID()"
      ]
    },
    {
      "cell_type": "code",
      "execution_count": 23,
      "metadata": {},
      "outputs": [],
      "source": [
        "def fake_data_sender(sender_socket, data):\n",
        "    try:\n",
        "        # Simulating sending of data\n",
        "        sender_socket.send(data.encode('utf-8'))\n",
        "        print(f\"Sent data: {data}\")\n",
        "    except Exception as e:\n",
        "        print(f\"Failed to send data: {e}\")\n",
        "\n",
        "def fake_data_receiver(receiver_socket):\n",
        "    try:\n",
        "        # Simulating receiving of data\n",
        "        data = receiver_socket.recv(1024)\n",
        "        print(f\"Received data: {data.decode('utf-8')}\")\n",
        "    except Exception as e:\n",
        "        print(f\"Failed to receive data: {e}\")\n"
      ]
    },
    {
      "cell_type": "code",
      "execution_count": 24,
      "metadata": {},
      "outputs": [
        {
          "name": "stdout",
          "output_type": "stream",
          "text": [
            "\u001b[93mip: 127.0.0.1, port_input: 8280\n",
            "\u001b[1m\u001b[92mSockets listener created\n",
            "\u001b[93mip: 127.0.0.1, port_output: 8281\n",
            "\u001b[1m\u001b[92mSockets sender created\n"
          ]
        }
      ],
      "source": [
        "socket_nn_input = setup_receiver(ip_address=global_var['ip_address'], \n",
        "                                port_input=global_var['port_nn_input'],\n",
        "                                )\n",
        "\n",
        "socket_pid_output = setup_sender(ip_address=global_var['ip_address'], \n",
        "                        port_output=global_var['port_pid_output'],\n",
        "                        socket_nn_input=socket_nn_input\n",
        "                        )"
      ]
    },
    {
      "cell_type": "code",
      "execution_count": 25,
      "metadata": {},
      "outputs": [
        {
          "ename": "",
          "evalue": "",
          "output_type": "error",
          "traceback": [
            "\u001b[1;31mThe Kernel crashed while executing code in the current cell or a previous cell. \n",
            "\u001b[1;31mPlease review the code in the cell(s) to identify a possible cause of the failure. \n",
            "\u001b[1;31mClick <a href='https://aka.ms/vscodeJupyterKernelCrash'>here</a> for more info. \n",
            "\u001b[1;31mView Jupyter <a href='command:jupyter.viewOutput'>log</a> for further details."
          ]
        }
      ],
      "source": [
        "receiver, address = accept_connection(socket_nn_input)\n",
        "sender, address = accept_connection(socket_pid_output)"
      ]
    },
    {
      "cell_type": "code",
      "execution_count": null,
      "metadata": {},
      "outputs": [],
      "source": [
        "close_connections(socket_nn_input, socket_pid_output)"
      ]
    },
    {
      "cell_type": "code",
      "execution_count": null,
      "metadata": {},
      "outputs": [],
      "source": [
        "'''\n",
        "train(model=network,\n",
        "      controller=pid_controller,\n",
        "      epochs=global_var['epochs'],\n",
        "      batch_size=global_var['batch_size'])\n",
        "'''"
      ]
    }
  ],
  "metadata": {
    "colab": {
      "collapsed_sections": [
        "zSHiaIsp_hxu",
        "Fy_Ly0wC_Yiv",
        "n6oG4o52CyUV",
        "7u6gHkN0qTzc"
      ],
      "provenance": []
    },
    "kernelspec": {
      "display_name": "Python 3",
      "language": "python",
      "name": "python3"
    },
    "language_info": {
      "codemirror_mode": {
        "name": "ipython",
        "version": 3
      },
      "file_extension": ".py",
      "mimetype": "text/x-python",
      "name": "python",
      "nbconvert_exporter": "python",
      "pygments_lexer": "ipython3",
      "version": "3.10.11"
    }
  },
  "nbformat": 4,
  "nbformat_minor": 0
}
